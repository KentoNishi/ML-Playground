{
 "cells": [
  {
   "cell_type": "code",
   "execution_count": 1,
   "metadata": {},
   "outputs": [],
   "source": [
    "# http://adventuresinmachinelearning.com/word2vec-keras-tutorial/"
   ]
  },
  {
   "cell_type": "code",
   "execution_count": 2,
   "metadata": {
    "scrolled": true
   },
   "outputs": [
    {
     "name": "stderr",
     "output_type": "stream",
     "text": [
      "Using TensorFlow backend.\n",
      "c:\\users\\yoshi\\appdata\\local\\programs\\python\\python37\\lib\\site-packages\\tensorflow\\python\\framework\\dtypes.py:516: FutureWarning: Passing (type, 1) or '1type' as a synonym of type is deprecated; in a future version of numpy, it will be understood as (type, (1,)) / '(1,)type'.\n",
      "  _np_qint8 = np.dtype([(\"qint8\", np.int8, 1)])\n",
      "c:\\users\\yoshi\\appdata\\local\\programs\\python\\python37\\lib\\site-packages\\tensorflow\\python\\framework\\dtypes.py:517: FutureWarning: Passing (type, 1) or '1type' as a synonym of type is deprecated; in a future version of numpy, it will be understood as (type, (1,)) / '(1,)type'.\n",
      "  _np_quint8 = np.dtype([(\"quint8\", np.uint8, 1)])\n",
      "c:\\users\\yoshi\\appdata\\local\\programs\\python\\python37\\lib\\site-packages\\tensorflow\\python\\framework\\dtypes.py:518: FutureWarning: Passing (type, 1) or '1type' as a synonym of type is deprecated; in a future version of numpy, it will be understood as (type, (1,)) / '(1,)type'.\n",
      "  _np_qint16 = np.dtype([(\"qint16\", np.int16, 1)])\n",
      "c:\\users\\yoshi\\appdata\\local\\programs\\python\\python37\\lib\\site-packages\\tensorflow\\python\\framework\\dtypes.py:519: FutureWarning: Passing (type, 1) or '1type' as a synonym of type is deprecated; in a future version of numpy, it will be understood as (type, (1,)) / '(1,)type'.\n",
      "  _np_quint16 = np.dtype([(\"quint16\", np.uint16, 1)])\n",
      "c:\\users\\yoshi\\appdata\\local\\programs\\python\\python37\\lib\\site-packages\\tensorflow\\python\\framework\\dtypes.py:520: FutureWarning: Passing (type, 1) or '1type' as a synonym of type is deprecated; in a future version of numpy, it will be understood as (type, (1,)) / '(1,)type'.\n",
      "  _np_qint32 = np.dtype([(\"qint32\", np.int32, 1)])\n",
      "c:\\users\\yoshi\\appdata\\local\\programs\\python\\python37\\lib\\site-packages\\tensorflow\\python\\framework\\dtypes.py:525: FutureWarning: Passing (type, 1) or '1type' as a synonym of type is deprecated; in a future version of numpy, it will be understood as (type, (1,)) / '(1,)type'.\n",
      "  np_resource = np.dtype([(\"resource\", np.ubyte, 1)])\n",
      "c:\\users\\yoshi\\appdata\\local\\programs\\python\\python37\\lib\\site-packages\\tensorboard\\compat\\tensorflow_stub\\dtypes.py:541: FutureWarning: Passing (type, 1) or '1type' as a synonym of type is deprecated; in a future version of numpy, it will be understood as (type, (1,)) / '(1,)type'.\n",
      "  _np_qint8 = np.dtype([(\"qint8\", np.int8, 1)])\n",
      "c:\\users\\yoshi\\appdata\\local\\programs\\python\\python37\\lib\\site-packages\\tensorboard\\compat\\tensorflow_stub\\dtypes.py:542: FutureWarning: Passing (type, 1) or '1type' as a synonym of type is deprecated; in a future version of numpy, it will be understood as (type, (1,)) / '(1,)type'.\n",
      "  _np_quint8 = np.dtype([(\"quint8\", np.uint8, 1)])\n",
      "c:\\users\\yoshi\\appdata\\local\\programs\\python\\python37\\lib\\site-packages\\tensorboard\\compat\\tensorflow_stub\\dtypes.py:543: FutureWarning: Passing (type, 1) or '1type' as a synonym of type is deprecated; in a future version of numpy, it will be understood as (type, (1,)) / '(1,)type'.\n",
      "  _np_qint16 = np.dtype([(\"qint16\", np.int16, 1)])\n",
      "c:\\users\\yoshi\\appdata\\local\\programs\\python\\python37\\lib\\site-packages\\tensorboard\\compat\\tensorflow_stub\\dtypes.py:544: FutureWarning: Passing (type, 1) or '1type' as a synonym of type is deprecated; in a future version of numpy, it will be understood as (type, (1,)) / '(1,)type'.\n",
      "  _np_quint16 = np.dtype([(\"quint16\", np.uint16, 1)])\n",
      "c:\\users\\yoshi\\appdata\\local\\programs\\python\\python37\\lib\\site-packages\\tensorboard\\compat\\tensorflow_stub\\dtypes.py:545: FutureWarning: Passing (type, 1) or '1type' as a synonym of type is deprecated; in a future version of numpy, it will be understood as (type, (1,)) / '(1,)type'.\n",
      "  _np_qint32 = np.dtype([(\"qint32\", np.int32, 1)])\n",
      "c:\\users\\yoshi\\appdata\\local\\programs\\python\\python37\\lib\\site-packages\\tensorboard\\compat\\tensorflow_stub\\dtypes.py:550: FutureWarning: Passing (type, 1) or '1type' as a synonym of type is deprecated; in a future version of numpy, it will be understood as (type, (1,)) / '(1,)type'.\n",
      "  np_resource = np.dtype([(\"resource\", np.ubyte, 1)])\n"
     ]
    }
   ],
   "source": [
    "from keras.models import Model\n",
    "from keras.layers import Input, Dense, Reshape, Dot, Lambda\n",
    "from keras.layers.embeddings import Embedding\n",
    "from keras.preprocessing.sequence import skipgrams\n",
    "from keras.preprocessing import sequence\n",
    "from keras import backend as K\n",
    "from keras.layers import dot\n",
    "import urllib\n",
    "import collections\n",
    "import os\n",
    "import zipfile\n",
    "import numpy as np\n",
    "import tensorflow as tf"
   ]
  },
  {
   "cell_type": "code",
   "execution_count": 3,
   "metadata": {},
   "outputs": [],
   "source": [
    "def download(filename, url, expected_bytes):\n",
    "    if not os.path.exists(os.path.join(os.path.join(os.path.abspath(''),\"data\"),filename)):\n",
    "        filename, _ = urllib.request.urlretrieve(url + filename, os.path.join(os.path.join(os.path.abspath(''),\"data\"),filename))\n",
    "    statinfo = os.stat(os.path.join(os.path.join(os.path.abspath(''),\"data\"),filename))\n",
    "    if statinfo.st_size == expected_bytes:\n",
    "        print('Found and verified', filename)\n",
    "    else:\n",
    "        print(statinfo.st_size)\n",
    "        raise Exception(\n",
    "            'Failed to verify ' + filename + '. Can you get to it with a browser?')\n",
    "    return os.path.join(os.path.join(os.path.abspath(''),\"data\"),filename)"
   ]
  },
  {
   "cell_type": "code",
   "execution_count": 4,
   "metadata": {},
   "outputs": [],
   "source": [
    "def read_data(filename):\n",
    "    with zipfile.ZipFile(filename) as f:\n",
    "        data = tf.compat.as_str(f.read(f.namelist()[0])).split()\n",
    "    return data"
   ]
  },
  {
   "cell_type": "code",
   "execution_count": 5,
   "metadata": {},
   "outputs": [],
   "source": [
    "def build_dataset(words, n_words):\n",
    "    count = [['UNK', -1]]\n",
    "    count.extend(collections.Counter(words).most_common(n_words - 1))\n",
    "    dictionary = dict()\n",
    "    for word, _ in count:\n",
    "        dictionary[word] = len(dictionary)\n",
    "    data = list()\n",
    "    unk_count = 0\n",
    "    for word in words:\n",
    "        if word in dictionary:\n",
    "            index = dictionary[word]\n",
    "        else:\n",
    "            index = 0  # dictionary['UNK']\n",
    "            unk_count += 1\n",
    "        data.append(index)\n",
    "    count[0][1] = unk_count\n",
    "    reversed_dictionary = dict(zip(dictionary.values(), dictionary.keys()))\n",
    "    return data, count, dictionary, reversed_dictionary\n"
   ]
  },
  {
   "cell_type": "code",
   "execution_count": 6,
   "metadata": {},
   "outputs": [],
   "source": [
    "def collect_data(vocabulary_size=10000):\n",
    "    url = 'http://mattmahoney.net/dc/'\n",
    "    filename = download('text8.zip', url, 31344016)\n",
    "    vocabulary = read_data(filename)\n",
    "    data, count, dictionary, reverse_dictionary = build_dataset(vocabulary,vocabulary_size)\n",
    "    del vocabulary\n",
    "    return data, count, dictionary, reverse_dictionary"
   ]
  },
  {
   "cell_type": "code",
   "execution_count": 7,
   "metadata": {},
   "outputs": [
    {
     "name": "stdout",
     "output_type": "stream",
     "text": [
      "Found and verified text8.zip\n"
     ]
    }
   ],
   "source": [
    "vocab_size = 10000\n",
    "data, count, dictionary, reverse_dictionary = collect_data(vocabulary_size=vocab_size)"
   ]
  },
  {
   "cell_type": "code",
   "execution_count": 8,
   "metadata": {},
   "outputs": [],
   "source": [
    "window_size = 3\n",
    "vector_dim = 300\n",
    "epochs = 200000"
   ]
  },
  {
   "cell_type": "code",
   "execution_count": 9,
   "metadata": {},
   "outputs": [
    {
     "data": {
      "text/plain": [
       "'\\nvalid_size = 16\\nvalid_window = 100\\nvalid_examples = np.random.choice(valid_window, valid_size, replace=False)\\n'"
      ]
     },
     "execution_count": 9,
     "metadata": {},
     "output_type": "execute_result"
    }
   ],
   "source": [
    "\"\"\"\n",
    "valid_size = 16\n",
    "valid_window = 100\n",
    "valid_examples = np.random.choice(valid_window, valid_size, replace=False)\n",
    "\"\"\""
   ]
  },
  {
   "cell_type": "code",
   "execution_count": 10,
   "metadata": {},
   "outputs": [],
   "source": [
    "sampling_table = sequence.make_sampling_table(vocab_size)\n",
    "couples, labels = skipgrams(data, vocab_size, window_size=window_size, sampling_table=sampling_table)\n",
    "word_target, word_context = zip(*couples)\n",
    "word_target = np.array(word_target, dtype=\"int32\")\n",
    "word_context = np.array(word_context, dtype=\"int32\")"
   ]
  },
  {
   "cell_type": "code",
   "execution_count": 11,
   "metadata": {},
   "outputs": [
    {
     "name": "stderr",
     "output_type": "stream",
     "text": [
      "WARNING: Logging before flag parsing goes to stderr.\n",
      "W0922 18:35:48.789585  7180 deprecation_wrapper.py:119] From c:\\users\\yoshi\\appdata\\local\\programs\\python\\python37\\lib\\site-packages\\keras\\backend\\tensorflow_backend.py:74: The name tf.get_default_graph is deprecated. Please use tf.compat.v1.get_default_graph instead.\n",
      "\n",
      "W0922 18:35:48.967045  7180 deprecation_wrapper.py:119] From c:\\users\\yoshi\\appdata\\local\\programs\\python\\python37\\lib\\site-packages\\keras\\backend\\tensorflow_backend.py:517: The name tf.placeholder is deprecated. Please use tf.compat.v1.placeholder instead.\n",
      "\n"
     ]
    }
   ],
   "source": [
    "input_target = Input((1,))\n",
    "input_context = Input((1,))"
   ]
  },
  {
   "cell_type": "code",
   "execution_count": 12,
   "metadata": {
    "scrolled": true
   },
   "outputs": [
    {
     "name": "stderr",
     "output_type": "stream",
     "text": [
      "W0922 18:35:49.026143  7180 deprecation_wrapper.py:119] From c:\\users\\yoshi\\appdata\\local\\programs\\python\\python37\\lib\\site-packages\\keras\\backend\\tensorflow_backend.py:4138: The name tf.random_uniform is deprecated. Please use tf.random.uniform instead.\n",
      "\n"
     ]
    }
   ],
   "source": [
    "embedding = Embedding(vocab_size, vector_dim, input_length=1, name='embedding')\n",
    "target = embedding(input_target)\n",
    "target = Reshape((vector_dim, 1))(target)\n",
    "context = embedding(input_context)\n",
    "context = Reshape((vector_dim, 1))(context)"
   ]
  },
  {
   "cell_type": "code",
   "execution_count": 13,
   "metadata": {
    "scrolled": false
   },
   "outputs": [],
   "source": [
    "# setup a cosine similarity operation which will be output in a secondary model\n",
    "similarity = dot([target,context],axes=1,normalize=True)"
   ]
  },
  {
   "cell_type": "code",
   "execution_count": 14,
   "metadata": {},
   "outputs": [
    {
     "name": "stderr",
     "output_type": "stream",
     "text": [
      "c:\\users\\yoshi\\appdata\\local\\programs\\python\\python37\\lib\\site-packages\\ipykernel_launcher.py:7: UserWarning: Update your `Model` call to the Keras 2 API: `Model(inputs=[<tf.Tenso..., outputs=Tensor(\"de...)`\n",
      "  import sys\n",
      "W0922 18:35:49.172068  7180 deprecation_wrapper.py:119] From c:\\users\\yoshi\\appdata\\local\\programs\\python\\python37\\lib\\site-packages\\keras\\optimizers.py:790: The name tf.train.Optimizer is deprecated. Please use tf.compat.v1.train.Optimizer instead.\n",
      "\n",
      "W0922 18:35:49.188053  7180 deprecation_wrapper.py:119] From c:\\users\\yoshi\\appdata\\local\\programs\\python\\python37\\lib\\site-packages\\keras\\backend\\tensorflow_backend.py:3376: The name tf.log is deprecated. Please use tf.math.log instead.\n",
      "\n",
      "W0922 18:35:49.193012  7180 deprecation.py:323] From c:\\users\\yoshi\\appdata\\local\\programs\\python\\python37\\lib\\site-packages\\tensorflow\\python\\ops\\nn_impl.py:180: add_dispatch_support.<locals>.wrapper (from tensorflow.python.ops.array_ops) is deprecated and will be removed in a future version.\n",
      "Instructions for updating:\n",
      "Use tf.where in 2.0, which has the same broadcast rule as np.where\n"
     ]
    }
   ],
   "source": [
    "# now perform the dot product operation to get a similarity measure\n",
    "dot_product = dot([target, context], normalize=False, axes=1)\n",
    "dot_product = Reshape((1,))(dot_product)\n",
    "# add the sigmoid output layer\n",
    "output = Dense(1, activation='sigmoid')(dot_product)\n",
    "# create the primary training model\n",
    "model = Model(input=[input_target, input_context], output=output)\n",
    "model.compile(loss='binary_crossentropy', optimizer='rmsprop')"
   ]
  },
  {
   "cell_type": "code",
   "execution_count": 15,
   "metadata": {},
   "outputs": [
    {
     "name": "stderr",
     "output_type": "stream",
     "text": [
      "c:\\users\\yoshi\\appdata\\local\\programs\\python\\python37\\lib\\site-packages\\ipykernel_launcher.py:2: UserWarning: Update your `Model` call to the Keras 2 API: `Model(inputs=[<tf.Tenso..., outputs=Tensor(\"do...)`\n",
      "  \n"
     ]
    }
   ],
   "source": [
    "# create a secondary validation model to run our similarity checks during training\n",
    "validation_model = Model(input=[input_target, input_context], output=similarity)"
   ]
  },
  {
   "cell_type": "code",
   "execution_count": 16,
   "metadata": {},
   "outputs": [],
   "source": [
    "class SimilarityCallback:\n",
    "    def run_sim(self,word):\n",
    "        valid_word = reverse_dictionary[dictionary[word]]\n",
    "        top_k = 8  # number of nearest neighbors\n",
    "        sim = self._get_sim(dictionary[word])\n",
    "        nearest = (-sim).argsort()[1:top_k + 1]\n",
    "        log_str = 'Nearest to %s:' % valid_word\n",
    "        for k in range(top_k):\n",
    "            close_word = reverse_dictionary[nearest[k]]\n",
    "            log_str = '%s %s,' % (log_str, close_word)\n",
    "        print(log_str)\n",
    "\n",
    "    @staticmethod\n",
    "    def _get_sim(valid_word_idx):\n",
    "        sim = np.zeros((vocab_size,))\n",
    "        in_arr1 = np.zeros((1,))\n",
    "        in_arr2 = np.zeros((1,))\n",
    "        in_arr1[0,] = valid_word_idx\n",
    "        for i in range(vocab_size):\n",
    "            in_arr2[0,] = i\n",
    "            out = validation_model.predict_on_batch([in_arr1, in_arr2])\n",
    "            sim[i] = out\n",
    "        return sim\n",
    "sim_cb = SimilarityCallback()"
   ]
  },
  {
   "cell_type": "code",
   "execution_count": 18,
   "metadata": {
    "scrolled": false
   },
   "outputs": [
    {
     "name": "stdout",
     "output_type": "stream",
     "text": [
      "Iteration 0, loss=0.3458108603954315\n",
      "Iteration 1000, loss=1.051347255706787\n",
      "Iteration 2000, loss=0.014564258977770805\n",
      "Iteration 3000, loss=0.3665485680103302\n",
      "Iteration 4000, loss=0.36206772923469543\n",
      "Iteration 5000, loss=0.1662810742855072\n",
      "Iteration 6000, loss=0.7548686861991882\n",
      "Iteration 7000, loss=0.9571908712387085\n",
      "Iteration 8000, loss=0.0072945524007081985\n",
      "Iteration 9000, loss=0.4969686269760132\n",
      "Iteration 10000, loss=0.09309297055006027\n",
      "Iteration 11000, loss=0.7348788380622864\n",
      "Iteration 12000, loss=0.5062342882156372\n",
      "Iteration 13000, loss=0.9834762811660767\n",
      "Iteration 14000, loss=0.4801466464996338\n",
      "Iteration 15000, loss=1.0392485857009888\n",
      "Iteration 16000, loss=2.5971810817718506\n",
      "Iteration 17000, loss=0.4553026258945465\n",
      "Iteration 18000, loss=0.17215649783611298\n",
      "Iteration 19000, loss=0.3885313868522644\n",
      "Iteration 20000, loss=2.79307222366333\n",
      "Iteration 21000, loss=0.3432311713695526\n",
      "Iteration 22000, loss=0.8328967094421387\n",
      "Iteration 23000, loss=0.0007345391204580665\n",
      "Iteration 24000, loss=0.3055901527404785\n",
      "Iteration 25000, loss=1.192093321833454e-07\n",
      "Iteration 26000, loss=0.7703582048416138\n",
      "Iteration 27000, loss=0.06099725887179375\n",
      "Iteration 28000, loss=0.38011854887008667\n",
      "Iteration 29000, loss=0.4610646367073059\n",
      "Iteration 30000, loss=0.3857499659061432\n",
      "Iteration 31000, loss=0.004056204576045275\n",
      "Iteration 32000, loss=0.48818472027778625\n",
      "Iteration 33000, loss=0.3606855273246765\n",
      "Iteration 34000, loss=0.35112297534942627\n",
      "Iteration 35000, loss=0.9268586039543152\n",
      "Iteration 36000, loss=0.005632017273455858\n",
      "Iteration 37000, loss=0.452012300491333\n",
      "Iteration 38000, loss=1.0719735622406006\n",
      "Iteration 39000, loss=0.9471797943115234\n",
      "Iteration 40000, loss=1.1051676273345947\n",
      "Iteration 41000, loss=0.5479133129119873\n",
      "Iteration 42000, loss=0.4080418646335602\n",
      "Iteration 43000, loss=0.06410393118858337\n",
      "Iteration 44000, loss=0.785942554473877\n",
      "Iteration 45000, loss=0.5329028367996216\n",
      "Iteration 46000, loss=0.8332396745681763\n",
      "Iteration 47000, loss=0.4758756458759308\n",
      "Iteration 48000, loss=0.00011838180216727778\n",
      "Iteration 49000, loss=0.4171525537967682\n",
      "Iteration 50000, loss=5.077128887176514\n",
      "Iteration 51000, loss=0.46949851512908936\n",
      "Iteration 52000, loss=0.6358898878097534\n",
      "Iteration 53000, loss=0.5647455453872681\n",
      "Iteration 54000, loss=0.7418450117111206\n",
      "Iteration 55000, loss=0.000582268345169723\n",
      "Iteration 56000, loss=8.225477358791977e-06\n",
      "Iteration 57000, loss=1.9312086806166917e-05\n",
      "Iteration 58000, loss=0.04419592395424843\n",
      "Iteration 59000, loss=6.044093242962845e-05\n",
      "Iteration 60000, loss=0.5798829197883606\n",
      "Iteration 61000, loss=0.5489001274108887\n",
      "Iteration 62000, loss=1.025890827178955\n",
      "Iteration 63000, loss=0.188132643699646\n",
      "Iteration 64000, loss=1.4585742950439453\n",
      "Iteration 65000, loss=0.4581688642501831\n",
      "Iteration 66000, loss=3.0383520126342773\n",
      "Iteration 67000, loss=0.29748034477233887\n",
      "Iteration 68000, loss=0.0049231029115617275\n",
      "Iteration 69000, loss=1.311302526119107e-06\n",
      "Iteration 70000, loss=4.768372718899627e-07\n",
      "Iteration 71000, loss=0.47142738103866577\n",
      "Iteration 72000, loss=0.4155377149581909\n",
      "Iteration 73000, loss=0.005747353192418814\n",
      "Iteration 74000, loss=0.3441457152366638\n",
      "Iteration 75000, loss=0.3305633068084717\n",
      "Iteration 76000, loss=0.37280356884002686\n",
      "Iteration 77000, loss=0.006200483068823814\n",
      "Iteration 78000, loss=7.152557373046875e-07\n",
      "Iteration 79000, loss=1.2727019786834717\n",
      "Iteration 80000, loss=1.102349042892456\n",
      "Iteration 81000, loss=1.2584919929504395\n",
      "Iteration 82000, loss=0.3722667694091797\n",
      "Iteration 83000, loss=0.29376572370529175\n",
      "Iteration 84000, loss=0.3477977216243744\n",
      "Iteration 85000, loss=0.7492848634719849\n",
      "Iteration 86000, loss=0.480227530002594\n",
      "Iteration 87000, loss=1.1886005401611328\n",
      "Iteration 88000, loss=0.7646893858909607\n",
      "Iteration 89000, loss=1.192093321833454e-07\n",
      "Iteration 90000, loss=0.4373061954975128\n",
      "Iteration 91000, loss=0.413212388753891\n",
      "Iteration 92000, loss=0.0728408619761467\n",
      "Iteration 93000, loss=0.4146551191806793\n",
      "Iteration 94000, loss=0.8726819157600403\n",
      "Iteration 95000, loss=0.3525078296661377\n",
      "Iteration 96000, loss=0.8333113789558411\n",
      "Iteration 97000, loss=0.16360211372375488\n",
      "Iteration 98000, loss=0.31232985854148865\n",
      "Iteration 99000, loss=1.1380712985992432\n",
      "Iteration 100000, loss=0.41486653685569763\n",
      "Iteration 101000, loss=0.08719199895858765\n",
      "Iteration 102000, loss=0.30130213499069214\n",
      "Iteration 103000, loss=1.039306402206421\n",
      "Iteration 104000, loss=1.1303561925888062\n",
      "Iteration 105000, loss=0.783845067024231\n",
      "Iteration 106000, loss=0.35902130603790283\n",
      "Iteration 107000, loss=0.4768979549407959\n",
      "Iteration 108000, loss=0.40505537390708923\n",
      "Iteration 109000, loss=0.38270944356918335\n",
      "Iteration 110000, loss=0.7642050981521606\n",
      "Iteration 111000, loss=0.4478541612625122\n",
      "Iteration 112000, loss=0.5368698239326477\n",
      "Iteration 113000, loss=0.4928564727306366\n",
      "Iteration 114000, loss=0.2649722695350647\n",
      "Iteration 115000, loss=0.00013721927825827152\n",
      "Iteration 116000, loss=0.27746978402137756\n",
      "Iteration 117000, loss=0.3737354278564453\n",
      "Iteration 118000, loss=1.192093321833454e-07\n",
      "Iteration 119000, loss=0.4359114170074463\n",
      "Iteration 120000, loss=0.9769092202186584\n",
      "Iteration 121000, loss=0.14358627796173096\n",
      "Iteration 122000, loss=0.7388797998428345\n",
      "Iteration 123000, loss=0.6718950271606445\n",
      "Iteration 124000, loss=1.3502787351608276\n",
      "Iteration 125000, loss=1.004380464553833\n",
      "Iteration 126000, loss=0.29089298844337463\n",
      "Iteration 127000, loss=1.208893895149231\n",
      "Iteration 128000, loss=0.5377020239830017\n",
      "Iteration 129000, loss=1.330504059791565\n",
      "Iteration 130000, loss=8.106268069241196e-06\n",
      "Iteration 131000, loss=0.6563422679901123\n",
      "Iteration 132000, loss=2.264979229948949e-06\n",
      "Iteration 133000, loss=0.3465651273727417\n",
      "Iteration 134000, loss=0.0008411367889493704\n",
      "Iteration 135000, loss=1.2154536247253418\n",
      "Iteration 136000, loss=0.3252035975456238\n",
      "Iteration 137000, loss=0.4380241930484772\n",
      "Iteration 138000, loss=0.36123305559158325\n",
      "Iteration 139000, loss=1.0460634231567383\n",
      "Iteration 140000, loss=0.008373891934752464\n",
      "Iteration 141000, loss=0.0002796445623971522\n",
      "Iteration 142000, loss=0.7686807513237\n",
      "Iteration 143000, loss=1.4652742147445679\n",
      "Iteration 144000, loss=6.950145325390622e-05\n",
      "Iteration 145000, loss=1.2769896984100342\n",
      "Iteration 146000, loss=0.0020649279467761517\n",
      "Iteration 147000, loss=0.4029330015182495\n",
      "Iteration 148000, loss=0.8595158457756042\n",
      "Iteration 149000, loss=0.3005888760089874\n",
      "Iteration 150000, loss=0.6776401400566101\n",
      "Iteration 151000, loss=1.138024091720581\n",
      "Iteration 152000, loss=0.3801477253437042\n",
      "Iteration 153000, loss=2.135251760482788\n",
      "Iteration 154000, loss=0.3471023142337799\n",
      "Iteration 155000, loss=0.00029824647936038673\n",
      "Iteration 156000, loss=1.3694924116134644\n",
      "Iteration 157000, loss=1.2142717838287354\n",
      "Iteration 158000, loss=0.10238361358642578\n",
      "Iteration 159000, loss=1.0296940803527832\n",
      "Iteration 160000, loss=0.0004276354156900197\n",
      "Iteration 161000, loss=0.0016896682791411877\n",
      "Iteration 162000, loss=0.3416692912578583\n",
      "Iteration 163000, loss=0.29863932728767395\n",
      "Iteration 164000, loss=0.2583588659763336\n",
      "Iteration 165000, loss=0.45282527804374695\n",
      "Iteration 166000, loss=15.942384719848633\n",
      "Iteration 167000, loss=0.0011053829221054912\n",
      "Iteration 168000, loss=0.3014683425426483\n",
      "Iteration 169000, loss=0.3557085394859314\n",
      "Iteration 170000, loss=1.0371257303631864e-05\n",
      "Iteration 171000, loss=0.7826410531997681\n",
      "Iteration 172000, loss=0.30940723419189453\n",
      "Iteration 173000, loss=0.002478271024301648\n",
      "Iteration 174000, loss=1.1289933919906616\n",
      "Iteration 175000, loss=0.32807594537734985\n",
      "Iteration 176000, loss=0.06577683240175247\n",
      "Iteration 177000, loss=3.5762778338721546e-07\n",
      "Iteration 178000, loss=1.192093321833454e-07\n",
      "Iteration 179000, loss=0.0007712239166721702\n",
      "Iteration 180000, loss=1.2913193702697754\n",
      "Iteration 181000, loss=0.33883020281791687\n",
      "Iteration 182000, loss=0.3577764928340912\n",
      "Iteration 183000, loss=0.2748147249221802\n",
      "Iteration 184000, loss=0.28509363532066345\n",
      "Iteration 185000, loss=0.9732964038848877\n",
      "Iteration 186000, loss=0.5614553689956665\n",
      "Iteration 187000, loss=4.411978244781494\n",
      "Iteration 188000, loss=0.4632143974304199\n",
      "Iteration 189000, loss=1.2906800508499146\n",
      "Iteration 190000, loss=0.4063625633716583\n",
      "Iteration 191000, loss=0.6466103792190552\n",
      "Iteration 192000, loss=0.47202369570732117\n",
      "Iteration 193000, loss=0.3120216727256775\n",
      "Iteration 194000, loss=0.5101453065872192\n"
     ]
    },
    {
     "name": "stdout",
     "output_type": "stream",
     "text": [
      "Iteration 195000, loss=0.3932865858078003\n",
      "Iteration 196000, loss=1.1050282716751099\n",
      "Iteration 197000, loss=0.33030253648757935\n",
      "Iteration 198000, loss=0.31553784012794495\n",
      "Iteration 199000, loss=0.26304760575294495\n"
     ]
    }
   ],
   "source": [
    "arr_1 = np.zeros((1,))\n",
    "arr_2 = np.zeros((1,))\n",
    "arr_3 = np.zeros((1,))\n",
    "for cnt in range(epochs):\n",
    "    idx = np.random.randint(0, len(labels)-1)\n",
    "    arr_1[0,] = word_target[idx]\n",
    "    arr_2[0,] = word_context[idx]\n",
    "    arr_3[0,] = labels[idx]\n",
    "    loss = model.train_on_batch([arr_1, arr_2], arr_3)\n",
    "    if cnt % 1000 == 0:\n",
    "        print(\"Iteration {}, loss={}\".format(cnt, loss))"
   ]
  },
  {
   "cell_type": "code",
   "execution_count": 19,
   "metadata": {},
   "outputs": [],
   "source": [
    "validation_model.save(\"word2vec-keras-model.h5\")"
   ]
  },
  {
   "cell_type": "code",
   "execution_count": 24,
   "metadata": {
    "scrolled": true
   },
   "outputs": [
    {
     "name": "stdout",
     "output_type": "stream",
     "text": [
      "Nearest to the: of, a, in, by, and, as, that, is,\n"
     ]
    }
   ],
   "source": [
    "sim_cb.run_sim(\"the\")"
   ]
  }
 ],
 "metadata": {
  "kernelspec": {
   "display_name": "Python 3",
   "language": "python",
   "name": "python3"
  },
  "language_info": {
   "codemirror_mode": {
    "name": "ipython",
    "version": 3
   },
   "file_extension": ".py",
   "mimetype": "text/x-python",
   "name": "python",
   "nbconvert_exporter": "python",
   "pygments_lexer": "ipython3",
   "version": "3.7.4"
  }
 },
 "nbformat": 4,
 "nbformat_minor": 2
}
